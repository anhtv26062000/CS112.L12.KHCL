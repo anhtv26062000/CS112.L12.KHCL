{
  "nbformat": 4,
  "nbformat_minor": 0,
  "metadata": {
    "colab": {
      "name": "SÔ_NGUYÊN_MỚI.ipynb",
      "provenance": [],
      "collapsed_sections": []
    },
    "kernelspec": {
      "name": "python3",
      "display_name": "Python 3"
    }
  },
  "cells": [
    {
      "cell_type": "markdown",
      "metadata": {
        "id": "IgQys_8KCctd"
      },
      "source": [
        "**Abstraction**\r\n",
        "\r\n",
        "Xác định số nguyên lớn nhất m chia hết cho 3 và khác n ( không quá 100 chữ số) ở đúng một chữ số.\r\n",
        "\r\n",
        "**Pattern Recognition**\r\n",
        "\r\n",
        "Quy hoạch động\r\n",
        "\r\n",
        "Ý tưởng:\r\n",
        "\r\n",
        "Dựa vào yêu cầu đề bài ta sẽ chia bài toán thành 2 bài toán con nhỏ:\r\n",
        "\r\n",
        "    1. Bài toán thứ nhất phải tìm một số m chia hết cho 3. \r\n",
        "      - Ở nhiệm vụ này thì ta sẽ phải giải quyết bằng cách sử dụng các phép chia lấy dư\r\n",
        "    2. Bài toán thứ hai là phải thỏa mãn bài toán thứ nhất và số m phải chia hết cho 3 và lớn nhất đồng thời chỉ khác n ở đúng một chữ số.\r\n",
        "      - Ở nhiệm vụ này thì ta phải xử lý từng số trên n theo chiều từ phải sang phải. Khi xét từng số này ta sẽ chia thành các trường hợp như sau:\r\n",
        "        + Nếu mà số ta đang xét là số 9 và vị trí của ở khác ở cuối cùng theo chiều từ trái sang phải thì vẫn giữ nguyên. Nếu trường hợp tất cả các số đều là số 9 thì nó vừa chia hết cho 3 vừa là số lớn nhất thì ta phải đổi số ở vị trí ở hàng đơn vị của n, khi đó 9 sẽ thành 6.\r\n",
        "        + Nếu mà số ta đang xét là số 8. Nếu n chia cho 3 dư 2 thì cần 1 nữa sẽ chia hết cho 3 nên ta đổi số 8 thành số 9. Trường hợp n chia 3 dư 1 ta sẽ không đổi vì nếu đổi ta phải đổi thành số 7 khi đó m sẽ nhỏ hơn n .Nếu mà số 8 ở vị trí cuối cùng, cũng tương tự như TH ở trên số 9 ở vị trí cuối cùng.\r\n",
        "        + TH số đang xét là số 7 thì ta cũng xét tương tự như trường hợp số 8.\r\n",
        "        + Đối với các trường hợp số đang xét nhỏ hơn 7 thì ta sẽ thêm một mảng phụ chứa tất cả các số từ 0->9 theo thứ tự giảm dần. Và chúng ta chạy vòng for để xét tất cả các TH nếu mà số sau khi đổi là m chia hết cho 3 thì thoát khỏi 2 vòng lặp. \r\n",
        "      - Sở dĩ ta phải xét các trường hợp đối với các số như 9,8,7 là các số lớn , nếu mà ta không xét ,chạy luôn như trường hợp số đang xét nhỏ hơn 7 thì sẽ bị TH là số đang lớn thành số nhỏ hơn. \r\n",
        "\r\n"
      ]
    },
    {
      "cell_type": "code",
      "metadata": {
        "colab": {
          "base_uri": "https://localhost:8080/"
        },
        "id": "WBTwBy0bGNVc",
        "outputId": "95d291ea-f4bb-4af0-dc07-0e0e07b1a106"
      },
      "source": [
        "n = input()\r\n",
        "arr = list(map(int, list(n)))\r\n",
        "sum1 = sum(arr)\r\n",
        "arr1 = [9,8,7,6,5,4,3,2,1,0]\r\n",
        "def change_char(input_string,value, index):\r\n",
        "    first_part = input_string[:index]\r\n",
        "    second_part = input_string[index+1:]\r\n",
        "    return first_part +value + second_part\r\n",
        "def newint():\r\n",
        "    for i in range(len(arr)):\r\n",
        "        t= 0\r\n",
        "        if arr[i] ==9:\r\n",
        "            if len(arr)-1==i:\r\n",
        "                print(change_char(n,\"6\",i))\r\n",
        "                return\r\n",
        "            else:\r\n",
        "                continue\r\n",
        "        elif arr[i]==8:\r\n",
        "            if sum1%3==2:\r\n",
        "                print(change_char(n,\"9\",i))\r\n",
        "                return\r\n",
        "            elif len(arr)-1==i:\r\n",
        "                print(change_char(n,\"5\",i))\r\n",
        "                return\r\n",
        "        elif arr[i]==7:\r\n",
        "            if sum1%3==1:\r\n",
        "                print(change_char(n,\"9\",i))\r\n",
        "                return\r\n",
        "            elif sum1%3==2:\r\n",
        "                print(change_char(n,\"8\",i))\r\n",
        "                return\r\n",
        "            else:\r\n",
        "                if len(arr)-1==i:\r\n",
        "                    print(change_char(n,\"4\",i))\r\n",
        "                    return\r\n",
        "        else:\r\n",
        "            for j in arr1:\r\n",
        "                if (sum1-arr[i]+j)%3==0:\r\n",
        "                    print(change_char(n,str(j),i))\r\n",
        "                    t =1\r\n",
        "                if t ==1:\r\n",
        "                  break\r\n",
        "        if t==1:\r\n",
        "          break\r\n",
        "                              \r\n",
        "newint()"
      ],
      "execution_count": 4,
      "outputs": [
        {
          "output_type": "stream",
          "text": [
            "888\n",
            "887\n"
          ],
          "name": "stdout"
        }
      ]
    },
    {
      "cell_type": "code",
      "metadata": {
        "id": "8o4qI69AhWT0"
      },
      "source": [
        ""
      ],
      "execution_count": null,
      "outputs": []
    }
  ]
}