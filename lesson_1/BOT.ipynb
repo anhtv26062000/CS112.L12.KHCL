{
  "nbformat": 4,
  "nbformat_minor": 0,
  "metadata": {
    "colab": {
      "name": "PTTKTT_Tuan1.ipynb",
      "provenance": [],
      "collapsed_sections": []
    },
    "kernelspec": {
      "name": "python3",
      "display_name": "Python 3"
    }
  },
  "cells": [
    {
      "cell_type": "markdown",
      "metadata": {
        "id": "5bQI4kfTCQZm"
      },
      "source": [
        "**Problem**\n",
        "\n",
        "BOT (Built-Operation-Transfer, có nghĩa: Xây dựng-Vận hành-Chuyển giao) là hình thức Chính phủ kêu gọi các công ty bỏ vốn xây dựng trước (Built) thông qua đấu thầu, sau đó khai thác vận hành một thời gian (Operation) và sau cùng là chuyển giao (Transfer) lại cho nhà nước sở tại.\n",
        "\n",
        "Đường cao tốc xuyên quốc gia được xây dựng theo hình thức BOT. Công ty Đa quốc gia Modern Highway trúng thầu, chia toàn bộ con đường thành n đoạn. Theo tính toán của Công ty sau khi chuyển giao con đường cho chính phủ sở tại quản lý thì lãi thu được ở đoạn đường thứ i là ai, ai có thể dương, âm hoặc bằng 0, tức là với từng đoạn con có thể lãi, lỗ hoặc hòa vốn. Từng nhóm các đoạn đường liên tiếp nhau (gọi tắt là khoảng) được chia cho các công ty con thực hiện. Công ty con ASEAM Highway hiện đang có trụ sở ở nước sở tại được quyền chọn trước khoảng tùy ý (có thể là cả con đường).\n",
        "\n",
        "Dĩ nhiên Ban Giám đốc ASEAM Highway muốn chọn khoảng bắt đầu từ đoạn p đến hết đoạn q mang lại lợi nhuận cao nhất hoặc lỗ ít nhất nếu không có khoảng nào cho lãi.\n",
        "\n",
        "Hãy chỉ ra khoảng cần chọn và lãi thu được. Nếu có nhiều cách chọn thì chỉ ra cách chọn có p nhỏ nhất.\n",
        "\n",
        "Dữ liệu: Vào từ thiết bị nhập chuẩn:\n",
        "\n",
        "  * Dòng đầu tiên chứa số nguyên n (1 ≤ n ≤ 106),\n",
        "  * Dòng thứ 2 chứa n số nguyên a1, a2, . . ., an (0 ≤ |ai| ≤ 109, i = 1 ÷ n).\n",
        "  \n",
        "Kết quả: Đưa ra thiết bị xuất chuẩn trên một dòng 2 số nguyên p, q và lãi thu được.\n",
        "\n",
        "Ví dụ:\n",
        "\n",
        "    INPUT\n",
        "    16\n",
        "    2 -4 5 -8 4 -1 -1 1 1 1 -2 2 4 -6 9 -4\n",
        "\n",
        "    OUTPUT\n",
        "    5 15 12\n",
        "\n",
        " \n",
        "\n",
        " \n",
        "\n",
        "\n",
        "**Abstraction**\n",
        "  * Finding the largest value sub-array in an array with n elements.\n",
        "\n",
        "**Input**\n",
        "  * Line 1: n is a length of array (integer, 1 <= n <= 10^6).\n",
        "  * Line 2: a is an array with elements as a[0], a[1], ... , a[n].\n",
        "\n",
        "**Output**\n",
        "  * Three numbers is: First index of sub-array, Last index of sub-array, Value of sub-array.\n",
        "  \n",
        "**Pattern Recognition**\n",
        "  * Dynamic Programming.\n",
        "\n",
        "**Pseudocode**\n",
        "\n",
        "        1.  Enter n and a\n",
        "        2.  Assign variables: max_value = first_index = last_index = 0\n",
        "        3.  For i in range(n):\n",
        "                max_temp += a[i]\n",
        "                If max_value is smaller than max_temp:\n",
        "                    Assign max_value = max_temp\n",
        "                    Update index of sub-array\n",
        "                If max_temp is smaller than zero:\n",
        "                    Assign max_temp = 0\n",
        "        4.  Print first_index, last_index, max_vlue\n"
      ]
    },
    {
      "cell_type": "code",
      "metadata": {
        "id": "v7tsDqmsCNog",
        "outputId": "fb1647c5-46b6-4344-c500-ae156179e3b4",
        "colab": {
          "base_uri": "https://localhost:8080/",
          "height": 67
        }
      },
      "source": [
        "n = int(input())\n",
        "a = list(map(int, input().split()))\n",
        "temp = max_temp = max_value = first_index = last_index = 0\n",
        "for i in range(n):\n",
        "    max_temp += a[i]\n",
        "    if max_value < max_temp:\n",
        "      max_value = max_temp\n",
        "      last_index = i\n",
        "      first_index = temp\n",
        "    if max_temp < 0:\n",
        "      max_temp = 0\n",
        "      temp = i+1\n",
        "print(first_index + 1, last_index + 1, max_value)"
      ],
      "execution_count": null,
      "outputs": [
        {
          "output_type": "stream",
          "text": [
            "16\n",
            "2 -4 5 -8 4 -1 -1 1 1 1 -2 2 4 -6 9 -4\n",
            "5 15 12\n"
          ],
          "name": "stdout"
        }
      ]
    }
  ]
}