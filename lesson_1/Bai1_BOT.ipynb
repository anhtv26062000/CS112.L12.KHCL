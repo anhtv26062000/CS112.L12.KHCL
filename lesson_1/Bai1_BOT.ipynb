{
  "nbformat": 4,
  "nbformat_minor": 0,
  "metadata": {
    "colab": {
      "name": "PTTKTT_Tuan1.ipynb",
      "provenance": [],
      "collapsed_sections": []
    },
    "kernelspec": {
      "name": "python3",
      "display_name": "Python 3"
    }
  },
  "cells": [
    {
      "cell_type": "markdown",
      "metadata": {
        "id": "5bQI4kfTCQZm",
        "colab_type": "text"
      },
      "source": [
        "**Abstraction**\n",
        "  * Finding the largest value sub-array in an array with n elements.\n",
        "\n",
        "**Input**\n",
        "  * Line 1: n is a length of array (integer, 1 <= n <= 10^6).\n",
        "  * Line 2: a is an array with elements as a[0], a[1], ... , a[n].\n",
        "\n",
        "**Output**\n",
        "  * Three values is: First index of sub-array, Last index of sub-array, Value of sub-array.\n",
        "  \n",
        "**Pattern Recognition**\n",
        "  * Dynamic Programming.\n",
        "\n",
        "**Pseudocode**\n",
        "\n",
        "        1.  Enter n and a\n",
        "        2.  Assign variables: max_temp = max_value = first_index = last_index = 0\n",
        "        3.  For i in range(n):\n",
        "                max_temp += a[i]\n",
        "                If max_value is smaller than max_temp:\n",
        "                    max_value = max_temp\n",
        "                    Update first and last index of sub-array\n",
        "                If max_temp is smaller than zero:\n",
        "                    Assign max_temp = 0\n",
        "        4.  Print first_index, last_index, max_value\n"
      ]
    },
    {
      "cell_type": "code",
      "metadata": {
        "id": "v7tsDqmsCNog",
        "colab_type": "code",
        "colab": {
          "base_uri": "https://localhost:8080/",
          "height": 67
        },
        "outputId": "fb1647c5-46b6-4344-c500-ae156179e3b4"
      },
      "source": [
        "n = int(input())\n",
        "a = list(map(int, input().split()))\n",
        "temp = max_temp = max_value = first_index = last_index = 0\n",
        "for i in range(n):\n",
        "    max_temp += a[i]\n",
        "    if max_value < max_temp:\n",
        "      max_value = max_temp\n",
        "      last_index = i\n",
        "      first_index = temp\n",
        "    if max_temp < 0:\n",
        "      max_temp = 0\n",
        "      temp = i + 1\n",
        "print(first_index + 1, last_index + 1, max_value)"
      ],
      "execution_count": 2,
      "outputs": [
        {
          "output_type": "stream",
          "text": [
            "16\n",
            "2 -4 5 -8 4 -1 -1 1 1 1 -2 2 4 -6 9 -4\n",
            "5 15 12\n"
          ],
          "name": "stdout"
        }
      ]
    }
  ]
}
