{
  "nbformat": 4,
  "nbformat_minor": 0,
  "metadata": {
    "colab": {
      "name": "H_INDEX.ipynb",
      "provenance": [],
      "collapsed_sections": [],
      "toc_visible": true,
      "authorship_tag": "ABX9TyOoaRAplUfgDv94GI799Xlr",
      "include_colab_link": true
    },
    "kernelspec": {
      "name": "python3",
      "display_name": "Python 3"
    }
  },
  "cells": [
    {
      "cell_type": "markdown",
      "metadata": {
        "id": "view-in-github",
        "colab_type": "text"
      },
      "source": [
        "<a href=\"https://colab.research.google.com/github/anhtv26062000/CS112.L12.KHCL/blob/master/lesson_3/H_INDEX.ipynb\" target=\"_parent\"><img src=\"https://colab.research.google.com/assets/colab-badge.svg\" alt=\"Open In Colab\"/></a>"
      ]
    },
    {
      "cell_type": "markdown",
      "metadata": {
        "id": "Lr9syXOwVynO"
      },
      "source": [
        "### **H_Index**\n",
        "\n",
        "Làm thế nào để đánh giá sự thành công của một nhà khoa học?  Dựa vào số bài báo được công bố hay dựa vào số lần một bài báo được trích dẫn tới ở công trình của những người khác? Cả hai tham số đó đều quan trọng.\n",
        "\n",
        "Một bài báo có điểm số trích dẫn là **c** nếu nó được trích dẫn tới **c** lần trong các công trình của những nhà khoa học khác. Một trong số các cách đánh giá sự thành công của một nhà khoa học là tính chỉ số ảnh hưởng **H_Index** dựa trên sự kết hợp giữa số lượng bài báo và chỉ số trích dẫn của các bài báo đó.\n",
        "\n",
        "Chỉ số **H_Index** của một nhà khoa học bằng **k** lớn nhất nếu người đó có **k** bài báo, mỗi bài có điểm số trích dẫn không nhỏ hơn **k**. Ví dụ, một người có 10 bài báo, mỗi bài báo được trích dẫn không dưới 10 lần thì **H_Index** của người đó ít nhất là bằng 10.\n",
        "\n",
        "Một người có **n** bài báo, bài báo thứ i có điểm trích dẫn là **ci**, **i** = 1 ÷ **n**. Hãy xác định **H_Index** của người đó.\n",
        "\n",
        "**Dữ liệu:** Vào từ thiết bị nhập chuẩn:\n",
        "\n",
        "\n",
        "*   Dòng đầu tiên chứa một số nguyên **n** (1 ≤ **n** ≤ 5×105),\n",
        "*   Dòng thứ 2 chứa** n** số nguyên **c1**, **c2**, . . ., **cn** (0 ≤ **ci** ≤ 106, i = 1 ÷ **n**).\n",
        "\n",
        "\n",
        "\n",
        "**Kết quả:** Đưa ra thiết bị xuất chuẩn một số nguyên – **H_Index** tìm được.\n",
        "\n",
        "**Ví dụ:**\n",
        "\n",
        "\n",
        "![image.png](data:image/png;base64,iVBORw0KGgoAAAANSUhEUgAAAUoAAACNCAYAAADRszO9AAALfklEQVR4Ae3cS07jQBCA4bkKiyyQ5kDZoVyBE4yEWHKLSIhDsGENJ+AGLLlAj/zodtnppCpQw6Tc/0gRidtJ2pWqz9VONL8S/4gAESACROBkBH6dHGWQCBABIkAEElCSBESACBABJQJAqQSIYSJABIgAUJIDRIAIEAElAkCpBIhhIkAEiABQkgNEgAgQASUCQKkEiGEiQASIAFCSA0SACBABJQJAqQSIYSJABIjAUSh///6duBEDcoAcaCEHtFPBSSjT52viRgy6HPjz54+WSyHH++Miz5uu8+5EoP0DSorEVCRAyQlzrU0TUIKgCUFLAQAlUFryJOI+QAmUQKmsqVh6cwIASqAESqB0y4GI3aJlzkAJlG5FwtKbzsuCTsR9gBIogZKO0i0HIiJomTNQAqVbkdBR0lFa0Im4D1ACJVDSUbrlQEQELXMGSqB0KxI6SjpKCzoR9wFKoARKOkq3HIiIoGXOQPn+kHab63QlbzcP6ePzNX3st/32+5fcKTynp5vrNDx+TPfyOZvrtNs/Dwn3cpuuxtfIH8Lb3Thee7/udRb75+dF+ktHmfPk///t8m3K6dv0NjYEfU7fPQoYp5yeP2d6vprvn10tbNPTuzjuXAMryXegzB1l/4FOCdUB1SfVzTbtCmJTUqVlcowJ0SdVTpL82p+vqUCpbIsE43KuQCmgEJ/zMk7/+vGQt8PJvnsv+fgUlGVelVo4me/LWuiO3VgD5T3/Y7wscwDK/AFVkiMn1dtdPluegPJzGOu7SmOS1PC0fGiXug9QXgKUle5OQJZzesohmdPj/Cu1cAClzHfx+uV1jTVQ9s91eKF/gTJ/MJXkKEnVfej9ckUm1SIh++ePoBqTBCiVi4MXMtyfAHKeXPrfSh6nEbVutVNyuhyHzOkzoJT5DpR9prbxvwdVEmxKqi6ZOgRlUi2vUeau077sAMoLkVCZBlB2gJ7Id6AEyqGTHPDb7R8XX+YIHMsZ+jiUw0XxaXkGlIpQFzIcCsoaWmLbdPLPeZibgPz4NaVK03C49Bb7i9cvS+myCpv2i5zvLL0zcJXkmCfVsNTezb71PgLlbFmSE+9w38iJUwoix4//uFd8kzzhUIvTv97W5VU5wY9fJJbHHWAb8aXl8nH3eVZq4TSUw0qr/Opjdv1yikXkfAfKPimmn0L0P6mQPw8SP6Xo4dzInwcd4leKoE/A6XWX3WS3X+TEKccJlBcD5PSZDHCVnweVX20MaOU8HsYrOXw2lN3rLpbmom7yvCLnO1CKQs8fKH+nLuCcWPCt99fidk6M2ff/xBgogdKtIwLK/1PE4Pnv4w6UQAmUypdGsb7M+fdotAgzUAIlUAKlWw6sFVGgBEq3ImHpTTcHlJWzbq8s0LhBEz3JgBIoo+fwsfnTUQK9G/RACZTHoIm+HSiBEigrqyW5iS9zOAEAJVACpVSxch8ogRIogRIoKzjKTUAJlEAJlEApVazcB0qgBEqgBMoKjnITUAIlUAIlUEoVK/eBEiiBEiiBsoKj3ASUQAmUQAmUUsXKfaAESqAESqCs4Cg3ASVQAiVQAqVUsXIfKIESKIESKCs4yk1ACZRACZRAKVWs3AdKoARKoATKCo5yE1ACJVACJVBKFSv3gRIogRIogbKCo9wElEAJlEAJlFLFyn2gBMpvQ9klETdiQA6QA2vOgW9DGf1/Lmb+ft1CVyhr/NcfFysPt5VHxJoDSgrArQCA0u+kExGTNc8ZKIESKJU2mI6SEwBQAiVQAqVbDqy1qwRKoHQrEpbedF5AWTnr9soCjRs00ZMMKIEyeg4fmz8dJdC7QQ+UQHkMmujbgRIogbKyWpKb+DKHEwBQAiVQShUr94ESKIESKIGygqPcBJRACZRACZRSxcp9oARKJyif09PNdbrayNttegMhN4QiXAzvQalAE30TUAKlL5R3j03BEAGvn5wjUALKT+bbT74XUNL1up3cgBIofxKvn3wvXyjF0nu3f3YrwJ8MCO/19WJvB0pxqYlVVBN17gTlvLg+9tt0tdmmp/f5dhBadzxagTLn9667Lg+UQDlehP917GJ8r2xt6fpy23+xc/+ybhiAf/75NgHl+0Paba7T/cvYVQIlUH4Vyre77ttvOsrWIF0/lBJHeX9+wmjtc2/heJ2W3o/pXlyfvNrw06AWkmd5jKuHsl8p5QYAKJef/5ofO0HJGXXNSWI9tnVDOcI4awjG3w3fPKSP2iUotq1mWQ6UJLNbMq8bymUzQEdpPYGuYT+gBEqgPPZt5bi9PwEc5AlQrgFA6zEA5UEBLDsHHluTqa2Okryw5sUa9gNKoKSj/FJHCZRrANB6DEAJlEAJlG45YIUn2n5ACZRuRcLSmy4zGoDW+QIlUAIlHaVbDljhibYfUAKlW5HQUdJRRgPQOl+gBEqgpKN0ywErPNH2A0qgdCsSOko6ymgAWucLlEAJlHSUbjlghSfafkAJlG5FQkdJRxkNQOt8gRIogZKO0i0HrPBE2w8ogdKtSOgo6SijAWidL1ACJVDSUbrlgBWeaPsBJVC6FQkdJR1lNACt8wVKoARKOkq3HLDCE20/oARKtyKho6SjjAagdb5ACZRASUfplgNWeKLtB5RA6VYkdJR0lNEAtM4XKIESKOko3XLACk+0/YASKN2KhI6SjjIagNb5AiVQAiUdpVsOWOGJth9QAqVbkdBR0lFGA9A6X6AESqCko3TLASs80fYDSqB0KxI6SjrKaABa5wuUQAmUdJRuOWCFJ9p+QAmUbkVCR0lHGQ1A63yBEiiBko7SLQes8ETbDyiB0q1I1txRdsfGrd0YACVQAqWlo1T2YXjdEfCD8uU2XW2up9vdo6kAP/bb6Tnj8+9fDNd6lu9385A+zkLvOT3djPM1znVYLjym+36et+lt9n7i9brxs+djOObZ+13e/mvuKNfNAEenRcAHyveHtNtcpwLc8vGJAh+gXKJzJgLj++32zyacO/CG992mXYelFcoZzvM5v9116OZtI5qNYQmUWrkxHjUCrlAWqHpQtunpXQfPBcoRsAL1CZj7rrBAPoJmgnLYt3uPOYqvKS2hHh9fbWwxiHZh+9h8gTIqA8xbi4APlKVDm5beVrQOlt5ndGEDWOcunyWO8r6OegbiAEoJdY/kNj3th0sR1jjk1478Fyi1cmM8agTcoJyhVb2GZ4Bo2ZlpnWEZH68bWpCddbvOUO67SxBjFynxLPM0xCDwvkAZlQHmrUXAB8olCt8Fz7QUnqNz0OVVwRlhHL80mn35ZEF2fM2D96ostfM1UMvlh8hdpJw7UGrlxnjUCFwWlCO45VpnFbs5kH2hZqjOBtapo/wcX6dgO3a4Z8+ncmzWGFzAfkAZlQHmrUXAB8rKNUrrN8nLJbv1mt7yedb3kx1QysAZQTt4z9nPgBbdakEzNn7zeJ0+FqDUyo3xqBFwg/KcgmLf0+BEjQ9QRmWAeWsRAMoLWLJGhXE5b6DUyo3xqBEASqA0/0h/CePyMVBGZYB5axEASqAESqVK1noCUA6bYREBoARKoBQFUbsLlLWotLUNKIESKJWaB0olQA0MAyVQAqVS6ECpBKiBYaAESqBUCh0olQA1MAyUQAmUSqEDpRKgBoaBEiiBUil0oFQC1MAwUAIlUCqFDpRKgBoYBkqgBEql0IFSCVADw0AJlECpFDpQKgFqYBgogRIolUIHSiVADQwDJVACpVLoQKkEqIFhoARKoFQKHSiVADUwDJRACZRKoQOlEqAGhoESKIFSKXSgVALUwDBQAiVQKoUOlEqAGhgGSqAESqXQgVIJUAPDQAmUQKkUOlAqAWpgGCiBEiiVQgdKJUANDAMlUAKlUuhAqQSogeFvQ9m9ADdiQA6QA2vPAe188EvbgXEiQASIQOsRAMrWM4DjJwJEQI0AUKohYgciQARajwBQtp4BHD8RIAJqBP4CF7RSkiWRZmUAAAAASUVORK5CYII=)\n",
        "\n",
        "**1.Abstraction**\n",
        "\n",
        "Dãy số nguyên có n phần tử, tìm tổng số phần tử nhỏ hơn hoặc bằng từng phần tử trong dãy số nguyên n.\n",
        "\n",
        "**2.Pattern Recognition**\n",
        "\n",
        "Sorting Algorithm\n",
        "\n",
        "**3.Algorithm designed**\n",
        "\n",
        "**Pseudocode:**\n",
        "\n",
        "Nhập n = số bài báo\n",
        "\n",
        "Nhập k = số trích dẫn của từng bài báo\n",
        "\n",
        "Sắp xếp k theo thứ tự tăng dần\n",
        "\n",
        "Gán count = i = 0\n",
        "\n",
        "Gán a = n\n",
        "\n",
        "While i < n:\n",
        "\n",
        "  - Nếu phần tử thứ k[i]> số bài báo a:\n",
        "\n",
        "    +             Tăng count lên 1\n",
        "\n",
        "  - Ngoài ra:\n",
        "-             Giảm số bài báo a đi 1\n",
        "\n",
        "  +   i=+1\n",
        "\n",
        "Xuất ra giá trị count chính là số cần tìm\n",
        "\n",
        "Độ phức tạp về thời gian O(NlogN)\n",
        "\n",
        "**Code**"
      ]
    },
    {
      "cell_type": "code",
      "metadata": {
        "id": "ttPKAeEMk5x7"
      },
      "source": [
        "n = int(input())\n",
        "k = list(map(int, input().split()))\n",
        "k.sort()\n",
        "count=0\n",
        "i=0\n",
        "a=n\n",
        "while i<n:\n",
        "\tif k[i]>=a:\n",
        "\t\tcount+=1\n",
        "\telse:\n",
        "\t\ta=a-1\n",
        "\ti+=1\n",
        "print(count)\n",
        "\t\t"
      ],
      "execution_count": null,
      "outputs": []
    }
  ]
}