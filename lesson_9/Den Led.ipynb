{
  "nbformat": 4,
  "nbformat_minor": 0,
  "metadata": {
    "colab": {
      "name": "Untitled",
      "provenance": []
    },
    "kernelspec": {
      "name": "python3",
      "display_name": "Python 3"
    }
  },
  "cells": [
    {
      "cell_type": "markdown",
      "metadata": {
        "id": "LbMXGGelmonZ"
      },
      "source": [
        "# **Abstraction**\r\n",
        "Xác định tổng lớn nhất của các chữ số mà mỗi chữ số được tạo ra từ một số ống đèn gộp lại.\r\n",
        "\r\n",
        "# **Pattern Recognition**\r\n",
        "\r\n",
        "If Else Statement\r\n",
        "\r\n",
        "Ý tưởng:\r\n",
        "\r\n",
        "Ở bài toán này đầu tiên ta xét từ 0 đến 9 thì số ống ít nhất cần gộp lại cho mỗi số là bao nhiêu.\r\n",
        "\r\n",
        "                  Số ống        Số\r\n",
        "                    1           Không có\r\n",
        "                    2            1\r\n",
        "                    3            7\r\n",
        "                    4            4\r\n",
        "                    5            2,3,5\r\n",
        "                    6            0,6,9\r\n",
        "                    7            8\r\n",
        "\r\n",
        "Nhận thấy là chỉ cần 3 ống gộp lại thì ta đã tạo được số 7, trong khi đó phải cần 6 ống thì cũng chỉ tạo được số 9. Cho nên bài toán này sẽ đưa về tìm số nguyên sao cho số đó được gộp từ nhiều số 3 nhất có thể đồng thời thỏa mãn điều kiện, ví dụ như số tìm được không được chia 3 mà dư 1, vì 1 ống không thể tạo thành số nào hết, thì lúc này ta giảm phần nguyên khi n chia 3 đi 1 ,lúc này thì ta có 4 ống và 4 ống này gộp lại sẽ là 4.\r\n",
        "\r\n",
        "# **Pseudo code**\r\n",
        "\r\n",
        "Nhập một số nguyên N\r\n",
        "\r\n",
        "Gán so_du = số dư của N chia cho 3\r\n",
        "\r\n",
        "Gán so_nguyen = phần nguyên của N chia cho 3\r\n",
        "\r\n",
        "Nếu so_du = 0 thì:\r\n",
        "\r\n",
        "      In kết quả = so_nguyen*7\r\n",
        "\r\n",
        "Nếu so_du = 1 thì :\r\n",
        "\r\n",
        "      In kết quả = (so_nguyen-1)*7 + 4\r\n",
        "\r\n",
        "Nếu so_du ==2 thì :\r\n",
        "\r\n",
        "      In kết quả = so_nguyen*7 + 1\r\n",
        "\r\n",
        "\r\n",
        "\r\n",
        "\r\n",
        "\r\n",
        "\r\n",
        "\r\n",
        "\r\n",
        "\r\n",
        "\r\n",
        "\r\n"
      ]
    },
    {
      "cell_type": "code",
      "metadata": {
        "id": "XzWcOO6zxkZR",
        "colab": {
          "base_uri": "https://localhost:8080/"
        },
        "outputId": "e3044610-eb4b-44b2-94d1-69423306777d"
      },
      "source": [
        "n = int(input())\r\n",
        "so_du = n% 3\r\n",
        "so_nguyen = int(n/3)\r\n",
        "if so_du ==0:\r\n",
        "  print(so_nguyen*7)\r\n",
        "elif so_du ==1:\r\n",
        "  print(so_nguyen*7-3)\r\n",
        "else:\r\n",
        "  print(so_nguyen*7 +1)"
      ],
      "execution_count": null,
      "outputs": [
        {
          "output_type": "stream",
          "text": [
            "7\n",
            "11\n"
          ],
          "name": "stdout"
        }
      ]
    }
  ]
}